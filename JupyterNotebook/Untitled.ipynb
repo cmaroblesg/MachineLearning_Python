{
 "cells": [
  {
   "cell_type": "code",
   "execution_count": 2,
   "metadata": {},
   "outputs": [
    {
     "name": "stdout",
     "output_type": "stream",
     "text": [
      "Requirement already satisfied: numpy in /Users/c.marcoa.roblesg./Documents/Projects/virtual_environment/lib/python3.7/site-packages (1.19.1)\n",
      "Requirement already satisfied: scipy in /Users/c.marcoa.roblesg./Documents/Projects/virtual_environment/lib/python3.7/site-packages (1.5.2)\n",
      "Requirement already satisfied: numpy>=1.14.5 in /Users/c.marcoa.roblesg./Documents/Projects/virtual_environment/lib/python3.7/site-packages (from scipy) (1.19.1)\n",
      "Requirement already satisfied: matplotlib in /Users/c.marcoa.roblesg./Documents/Projects/virtual_environment/lib/python3.7/site-packages (3.3.1)\n",
      "Requirement already satisfied: pyparsing!=2.0.4,!=2.1.2,!=2.1.6,>=2.0.3 in /Users/c.marcoa.roblesg./Documents/Projects/virtual_environment/lib/python3.7/site-packages (from matplotlib) (2.4.7)\n",
      "Requirement already satisfied: python-dateutil>=2.1 in /Users/c.marcoa.roblesg./Documents/Projects/virtual_environment/lib/python3.7/site-packages (from matplotlib) (2.8.1)\n",
      "Requirement already satisfied: cycler>=0.10 in /Users/c.marcoa.roblesg./Documents/Projects/virtual_environment/lib/python3.7/site-packages (from matplotlib) (0.10.0)\n",
      "Requirement already satisfied: numpy>=1.15 in /Users/c.marcoa.roblesg./Documents/Projects/virtual_environment/lib/python3.7/site-packages (from matplotlib) (1.19.1)\n",
      "Requirement already satisfied: kiwisolver>=1.0.1 in /Users/c.marcoa.roblesg./Documents/Projects/virtual_environment/lib/python3.7/site-packages (from matplotlib) (1.2.0)\n",
      "Requirement already satisfied: pillow>=6.2.0 in /Users/c.marcoa.roblesg./Documents/Projects/virtual_environment/lib/python3.7/site-packages (from matplotlib) (7.2.0)\n",
      "Requirement already satisfied: certifi>=2020.06.20 in /Users/c.marcoa.roblesg./Documents/Projects/virtual_environment/lib/python3.7/site-packages (from matplotlib) (2020.6.20)\n",
      "Requirement already satisfied: six>=1.5 in /Users/c.marcoa.roblesg./Documents/Projects/virtual_environment/lib/python3.7/site-packages (from python-dateutil>=2.1->matplotlib) (1.15.0)\n",
      "Requirement already satisfied: pandas in /Users/c.marcoa.roblesg./Documents/Projects/virtual_environment/lib/python3.7/site-packages (1.1.2)\n",
      "Requirement already satisfied: python-dateutil>=2.7.3 in /Users/c.marcoa.roblesg./Documents/Projects/virtual_environment/lib/python3.7/site-packages (from pandas) (2.8.1)\n",
      "Requirement already satisfied: numpy>=1.15.4 in /Users/c.marcoa.roblesg./Documents/Projects/virtual_environment/lib/python3.7/site-packages (from pandas) (1.19.1)\n",
      "Requirement already satisfied: pytz>=2017.2 in /Users/c.marcoa.roblesg./Documents/Projects/virtual_environment/lib/python3.7/site-packages (from pandas) (2020.1)\n",
      "Requirement already satisfied: six>=1.5 in /Users/c.marcoa.roblesg./Documents/Projects/virtual_environment/lib/python3.7/site-packages (from python-dateutil>=2.7.3->pandas) (1.15.0)\n",
      "Requirement already satisfied: sklearn in /Users/c.marcoa.roblesg./Documents/Projects/virtual_environment/lib/python3.7/site-packages (0.0)\n",
      "Requirement already satisfied: scikit-learn in /Users/c.marcoa.roblesg./Documents/Projects/virtual_environment/lib/python3.7/site-packages (from sklearn) (0.23.2)\n",
      "Requirement already satisfied: numpy>=1.13.3 in /Users/c.marcoa.roblesg./Documents/Projects/virtual_environment/lib/python3.7/site-packages (from scikit-learn->sklearn) (1.19.1)\n",
      "Requirement already satisfied: joblib>=0.11 in /Users/c.marcoa.roblesg./Documents/Projects/virtual_environment/lib/python3.7/site-packages (from scikit-learn->sklearn) (0.16.0)\n",
      "Requirement already satisfied: scipy>=0.19.1 in /Users/c.marcoa.roblesg./Documents/Projects/virtual_environment/lib/python3.7/site-packages (from scikit-learn->sklearn) (1.5.2)\n",
      "Requirement already satisfied: threadpoolctl>=2.0.0 in /Users/c.marcoa.roblesg./Documents/Projects/virtual_environment/lib/python3.7/site-packages (from scikit-learn->sklearn) (2.1.0)\n",
      "\u001b[31mERROR: Could not find a version that satisfies the requirement pickle (from versions: none)\u001b[0m\n",
      "\u001b[31mERROR: No matching distribution found for pickle\u001b[0m\n"
     ]
    }
   ],
   "source": [
    "!pip install numpy\n",
    "!pip install scipy\n",
    "!pip install matplotlib\n",
    "!pip install pandas\n",
    "!pip install sklearn\n",
    "!pip install pickle"
   ]
  },
  {
   "cell_type": "code",
   "execution_count": null,
   "metadata": {},
   "outputs": [],
   "source": []
  }
 ],
 "metadata": {
  "kernelspec": {
   "display_name": "Python 3",
   "language": "python",
   "name": "python3"
  },
  "language_info": {
   "codemirror_mode": {
    "name": "ipython",
    "version": 3
   },
   "file_extension": ".py",
   "mimetype": "text/x-python",
   "name": "python",
   "nbconvert_exporter": "python",
   "pygments_lexer": "ipython3",
   "version": "3.7.7"
  }
 },
 "nbformat": 4,
 "nbformat_minor": 4
}
